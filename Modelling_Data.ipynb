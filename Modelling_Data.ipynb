{
 "cells": [
  {
   "cell_type": "markdown",
   "metadata": {},
   "source": [
    "# Exploratory Data analysis"
   ]
  },
  {
   "cell_type": "code",
   "execution_count": 78,
   "metadata": {
    "collapsed": true
   },
   "outputs": [],
   "source": [
    "import pandas as pd\n",
    "from sklearn import preprocessing\n",
    "from sklearn.ensemble import RandomForestClassifier\n",
    "from sklearn.model_selection import train_test_split\n",
    "from sklearn.ensemble import GradientBoostingClassifier\n",
    "import numpy as np\n",
    "from sklearn.metrics import accuracy_score\n",
    "import math\n",
    "from sklearn.metrics import classification_report\n",
    "import seaborn as sns\n",
    "import matplotlib.pyplot as plt\n",
    "from sklearn.linear_model import LinearRegression\n",
    "from sklearn.linear_model import LogisticRegression"
   ]
  },
  {
   "cell_type": "markdown",
   "metadata": {},
   "source": [
    "Reading the data from CSV"
   ]
  },
  {
   "cell_type": "code",
   "execution_count": 2,
   "metadata": {
    "collapsed": true
   },
   "outputs": [],
   "source": [
    "data = pd.read_csv(\"C:/Users/shash/Desktop/COursera/Dispatch.csv\",header=0)"
   ]
  },
  {
   "cell_type": "code",
   "execution_count": 3,
   "metadata": {},
   "outputs": [
    {
     "data": {
      "text/html": [
       "<div>\n",
       "<style>\n",
       "    .dataframe thead tr:only-child th {\n",
       "        text-align: right;\n",
       "    }\n",
       "\n",
       "    .dataframe thead th {\n",
       "        text-align: left;\n",
       "    }\n",
       "\n",
       "    .dataframe tbody tr th {\n",
       "        vertical-align: top;\n",
       "    }\n",
       "</style>\n",
       "<table border=\"1\" class=\"dataframe\">\n",
       "  <thead>\n",
       "    <tr style=\"text-align: right;\">\n",
       "      <th></th>\n",
       "      <th>fttpproducttype</th>\n",
       "      <th>wbn_prod_type</th>\n",
       "      <th>ontrequiredind</th>\n",
       "      <th>wbn_ont_required</th>\n",
       "      <th>onttype</th>\n",
       "      <th>premisetype</th>\n",
       "      <th>stbcount</th>\n",
       "      <th>droptype</th>\n",
       "      <th>serviceordertype</th>\n",
       "      <th>classofservicename</th>\n",
       "      <th>...</th>\n",
       "      <th>ismigrate</th>\n",
       "      <th>isnt</th>\n",
       "      <th>isfitof</th>\n",
       "      <th>networkmigrationind</th>\n",
       "      <th>order_type</th>\n",
       "      <th>detailed_order_type</th>\n",
       "      <th>arrivalwindow</th>\n",
       "      <th>diff_cx_onprem</th>\n",
       "      <th>change_state</th>\n",
       "      <th>jobeffortcoeff</th>\n",
       "    </tr>\n",
       "  </thead>\n",
       "  <tbody>\n",
       "    <tr>\n",
       "      <th>0</th>\n",
       "      <td>T</td>\n",
       "      <td>T</td>\n",
       "      <td>Y</td>\n",
       "      <td>Y</td>\n",
       "      <td>SFU</td>\n",
       "      <td>MDU</td>\n",
       "      <td>0</td>\n",
       "      <td>N</td>\n",
       "      <td>C</td>\n",
       "      <td>RES</td>\n",
       "      <td>...</td>\n",
       "      <td>Y</td>\n",
       "      <td>Y</td>\n",
       "      <td>N</td>\n",
       "      <td>N</td>\n",
       "      <td>NEW</td>\n",
       "      <td>MIGRATION</td>\n",
       "      <td>0900-1100</td>\n",
       "      <td>246</td>\n",
       "      <td>C</td>\n",
       "      <td>4.10</td>\n",
       "    </tr>\n",
       "    <tr>\n",
       "      <th>1</th>\n",
       "      <td>T</td>\n",
       "      <td>T</td>\n",
       "      <td>Y</td>\n",
       "      <td>Y</td>\n",
       "      <td>SFU</td>\n",
       "      <td>MDU</td>\n",
       "      <td>0</td>\n",
       "      <td>N</td>\n",
       "      <td>C</td>\n",
       "      <td>RES</td>\n",
       "      <td>...</td>\n",
       "      <td>Y</td>\n",
       "      <td>Y</td>\n",
       "      <td>N</td>\n",
       "      <td>N</td>\n",
       "      <td>NEW</td>\n",
       "      <td>MIGRATION</td>\n",
       "      <td>1000-1200</td>\n",
       "      <td>195</td>\n",
       "      <td>C</td>\n",
       "      <td>3.25</td>\n",
       "    </tr>\n",
       "    <tr>\n",
       "      <th>2</th>\n",
       "      <td>D</td>\n",
       "      <td>D</td>\n",
       "      <td>Y</td>\n",
       "      <td>Y</td>\n",
       "      <td>SFU</td>\n",
       "      <td>MDU</td>\n",
       "      <td>0</td>\n",
       "      <td>N</td>\n",
       "      <td>N</td>\n",
       "      <td>RES</td>\n",
       "      <td>...</td>\n",
       "      <td>N</td>\n",
       "      <td>N</td>\n",
       "      <td>N</td>\n",
       "      <td>N</td>\n",
       "      <td>NEW</td>\n",
       "      <td>NEW</td>\n",
       "      <td>1300-1500</td>\n",
       "      <td>232</td>\n",
       "      <td>X</td>\n",
       "      <td>3.87</td>\n",
       "    </tr>\n",
       "    <tr>\n",
       "      <th>3</th>\n",
       "      <td>D</td>\n",
       "      <td>D</td>\n",
       "      <td>N</td>\n",
       "      <td>Y</td>\n",
       "      <td>SFU</td>\n",
       "      <td>Unknown</td>\n",
       "      <td>0</td>\n",
       "      <td>B</td>\n",
       "      <td>N</td>\n",
       "      <td>RES</td>\n",
       "      <td>...</td>\n",
       "      <td>N</td>\n",
       "      <td>N</td>\n",
       "      <td>N</td>\n",
       "      <td>N</td>\n",
       "      <td>NEW</td>\n",
       "      <td>NEW</td>\n",
       "      <td>1400-1600</td>\n",
       "      <td>95</td>\n",
       "      <td>X</td>\n",
       "      <td>1.58</td>\n",
       "    </tr>\n",
       "    <tr>\n",
       "      <th>4</th>\n",
       "      <td>D</td>\n",
       "      <td>D</td>\n",
       "      <td>Y</td>\n",
       "      <td>N</td>\n",
       "      <td>SFU</td>\n",
       "      <td>SFU</td>\n",
       "      <td>0</td>\n",
       "      <td>B</td>\n",
       "      <td>N</td>\n",
       "      <td>RES</td>\n",
       "      <td>...</td>\n",
       "      <td>N</td>\n",
       "      <td>N</td>\n",
       "      <td>N</td>\n",
       "      <td>N</td>\n",
       "      <td>NEW</td>\n",
       "      <td>NEW</td>\n",
       "      <td>1500-1700</td>\n",
       "      <td>96</td>\n",
       "      <td>X</td>\n",
       "      <td>1.60</td>\n",
       "    </tr>\n",
       "  </tbody>\n",
       "</table>\n",
       "<p>5 rows × 37 columns</p>\n",
       "</div>"
      ],
      "text/plain": [
       "  fttpproducttype wbn_prod_type ontrequiredind wbn_ont_required onttype  \\\n",
       "0               T             T              Y                Y     SFU   \n",
       "1               T             T              Y                Y     SFU   \n",
       "2               D             D              Y                Y     SFU   \n",
       "3               D             D              N                Y     SFU   \n",
       "4               D             D              Y                N     SFU   \n",
       "\n",
       "  premisetype stbcount droptype serviceordertype classofservicename  \\\n",
       "0         MDU        0        N                C                RES   \n",
       "1         MDU        0        N                C                RES   \n",
       "2         MDU        0        N                N                RES   \n",
       "3     Unknown        0        B                N                RES   \n",
       "4         SFU        0        B                N                RES   \n",
       "\n",
       "       ...       ismigrate isnt  isfitof networkmigrationind order_type  \\\n",
       "0      ...               Y    Y        N                   N        NEW   \n",
       "1      ...               Y    Y        N                   N        NEW   \n",
       "2      ...               N    N        N                   N        NEW   \n",
       "3      ...               N    N        N                   N        NEW   \n",
       "4      ...               N    N        N                   N        NEW   \n",
       "\n",
       "  detailed_order_type arrivalwindow diff_cx_onprem change_state jobeffortcoeff  \n",
       "0           MIGRATION     0900-1100            246            C           4.10  \n",
       "1           MIGRATION     1000-1200            195            C           3.25  \n",
       "2                 NEW     1300-1500            232            X           3.87  \n",
       "3                 NEW     1400-1600             95            X           1.58  \n",
       "4                 NEW     1500-1700             96            X           1.60  \n",
       "\n",
       "[5 rows x 37 columns]"
      ]
     },
     "execution_count": 3,
     "metadata": {},
     "output_type": "execute_result"
    }
   ],
   "source": [
    "data.head()"
   ]
  },
  {
   "cell_type": "code",
   "execution_count": 4,
   "metadata": {},
   "outputs": [
    {
     "data": {
      "text/plain": [
       "(180647, 37)"
      ]
     },
     "execution_count": 4,
     "metadata": {},
     "output_type": "execute_result"
    }
   ],
   "source": [
    "data.shape"
   ]
  },
  {
   "cell_type": "code",
   "execution_count": 5,
   "metadata": {},
   "outputs": [
    {
     "data": {
      "text/plain": [
       "Index(['fttpproducttype', 'wbn_prod_type', 'ontrequiredind',\n",
       "       'wbn_ont_required', 'onttype', 'premisetype', 'stbcount', 'droptype',\n",
       "       'serviceordertype', 'classofservicename', 'dataordertype',\n",
       "       'videoordertype', 'wirecentergroupid', 'gponind', 'adlflag',\n",
       "       'hfwsindicator', 'dispatchreason', 'winbackind', 'winbackocn', 'bdvind',\n",
       "       'bdvnooflines', 'traveltime', 'rewiringrequired', 'swapontind',\n",
       "       'drcregion', 'ont_status', 'migrateorderind', 'ismigrate', 'isnt',\n",
       "       'isfitof', 'networkmigrationind', 'order_type', 'detailed_order_type',\n",
       "       'arrivalwindow', 'diff_cx_onprem', 'change_state', 'jobeffortcoeff'],\n",
       "      dtype='object')"
      ]
     },
     "execution_count": 5,
     "metadata": {},
     "output_type": "execute_result"
    }
   ],
   "source": [
    "data.columns"
   ]
  },
  {
   "cell_type": "markdown",
   "metadata": {},
   "source": [
    "#### Replacing null values with mode"
   ]
  },
  {
   "cell_type": "raw",
   "metadata": {},
   "source": [
    "columns having null values\n",
    "==========================\n",
    "premisetype (32081 Unknown)\n",
    "wbn_prod_type (1 None value)\n",
    "onttype (4 UNK)\n",
    "stbcount (116 X)\n",
    "dispatchreason (11544 None)\n",
    "winbackocn (163431 None)\n",
    "\n",
    "\n",
    "migrateorderind (all N) \n",
    "ismigrate (Y, N, 3 other values)\n",
    "\n",
    "Numerical columns : stbcount, diff_cx_onprem , jobeffortcoeff, bdvnooflines, traveltime.\n",
    "Rest of the columns are categorical variables"
   ]
  },
  {
   "cell_type": "code",
   "execution_count": 6,
   "metadata": {
    "collapsed": true
   },
   "outputs": [],
   "source": [
    "data.premisetype = data.premisetype.replace('Unknown',np.NaN)\n",
    "data.wbn_prod_type = data.wbn_prod_type.replace('NONE',np.NaN)\n",
    "data.stbcount = data.stbcount.replace('X',np.NaN)\n",
    "data.dispatchreason = data.dispatchreason.replace('None',np.NaN)\n",
    "data.winbackocn = data.winbackocn.replace('None',np.NaN)"
   ]
  },
  {
   "cell_type": "code",
   "execution_count": 7,
   "metadata": {
    "collapsed": true
   },
   "outputs": [],
   "source": [
    "data['premisetype'] = data['premisetype'].fillna(data['premisetype'].mode()[0])\n",
    "data['wbn_prod_type'] = data['wbn_prod_type'].fillna(data['wbn_prod_type'].mode()[0])\n",
    "data['stbcount'] = data['stbcount'].fillna(data['stbcount'].mode()[0])\n",
    "data['dispatchreason'] = data['dispatchreason'].fillna(data['dispatchreason'].mode()[0])\n",
    "data['winbackocn'] = data['winbackocn'].fillna(data['winbackocn'].mode()[0])"
   ]
  },
  {
   "cell_type": "code",
   "execution_count": 8,
   "metadata": {},
   "outputs": [
    {
     "data": {
      "text/plain": [
       "(180647, 37)"
      ]
     },
     "execution_count": 8,
     "metadata": {},
     "output_type": "execute_result"
    }
   ],
   "source": [
    "data.shape"
   ]
  },
  {
   "cell_type": "code",
   "execution_count": 9,
   "metadata": {
    "collapsed": true
   },
   "outputs": [],
   "source": [
    "# converting stbcount to numeric\n",
    "data[\"stbcount\"] = pd.to_numeric(data[\"stbcount\"])\n",
    "# converting wirecentergroupid to categorical\n",
    "data.wirecentergroupid = data.wirecentergroupid.astype(str)"
   ]
  },
  {
   "cell_type": "markdown",
   "metadata": {},
   "source": [
    "### Preparing data for modelling: Numerical encoding for categorical features"
   ]
  },
  {
   "cell_type": "code",
   "execution_count": 10,
   "metadata": {
    "collapsed": true
   },
   "outputs": [],
   "source": [
    "le = preprocessing.LabelEncoder()"
   ]
  },
  {
   "cell_type": "markdown",
   "metadata": {
    "collapsed": true
   },
   "source": [
    "data['fttpproducttype'] = le.fit_transform(data['fttpproducttype'])\n",
    "data['wbn_prod_type'] = le.fit_transform(data['wbn_prod_type'])\n",
    "data['ontrequiredind'] = le.fit_transform(data['ontrequiredind'])\n",
    "data['wbn_ont_required'] = le.fit_transform(data['wbn_ont_required'])\n",
    "data['onttype'] = le.fit_transform(data['onttype'])\n",
    "data['premisetype'] = le.fit_transform(data['premisetype'])\n",
    "data['droptype'] = le.fit_transform(data['droptype'])\n",
    "data['serviceordertype'] = le.fit_transform(data['serviceordertype'])\n",
    "data['classofservicename'] = le.fit_transform(data['classofservicename'])\n",
    "data['dataordertype'] = le.fit_transform(data['dataordertype'])\n",
    "data['videoordertype'] = le.fit_transform(data['videoordertype'])\n",
    "data['wirecentergroupid'] = le.fit_transform(data['wirecentergroupid'])\n",
    "data['gponind'] = le.fit_transform(data['gponind'])\n",
    "data['adlflag'] = le.fit_transform(data['adlflag'])\n",
    "data['hfwsindicator'] = le.fit_transform(data['hfwsindicator'])\n",
    "data['dispatchreason'] = le.fit_transform(data['dispatchreason'])\n",
    "data['winbackind'] = le.fit_transform(data['winbackind'])\n",
    "data['winbackocn'] = le.fit_transform(data['winbackocn'])\n",
    "data['bdvind'] = le.fit_transform(data['bdvind'])\n",
    "data['rewiringrequired'] = le.fit_transform(data['rewiringrequired'])\n",
    "data['swapontind'] = le.fit_transform(data['swapontind'])\n",
    "data['drcregion'] = le.fit_transform(data['drcregion'])\n",
    "data['ont_status'] = le.fit_transform(data['ont_status'])\n",
    "data['migrateorderind'] = le.fit_transform(data['migrateorderind'])\n",
    "data['ismigrate'] = le.fit_transform(data['ismigrate'])\n",
    "data['isnt'] = le.fit_transform(data['isnt'])\n",
    "data['isfitof'] = le.fit_transform(data['isfitof'])\n",
    "data['networkmigrationind'] = le.fit_transform(data['networkmigrationind'])\n",
    "data['order_type'] = le.fit_transform(data['order_type'])\n",
    "data['detailed_order_type'] = le.fit_transform(data['detailed_order_type'])\n",
    "data['arrivalwindow'] = le.fit_transform(data['arrivalwindow'])\n",
    "data['change_state'] = le.fit_transform(data['change_state'])"
   ]
  },
  {
   "cell_type": "markdown",
   "metadata": {},
   "source": [
    "### Creating buckets for the target variable. We are converting the problem into classification."
   ]
  },
  {
   "cell_type": "code",
   "execution_count": 13,
   "metadata": {},
   "outputs": [
    {
     "data": {
      "text/plain": [
       "3    58594\n",
       "4    48673\n",
       "5    29953\n",
       "2    23062\n",
       "6    14873\n",
       "7     5159\n",
       "8      333\n",
       "Name: new_label, dtype: int64"
      ]
     },
     "execution_count": 13,
     "metadata": {},
     "output_type": "execute_result"
    }
   ],
   "source": [
    "data['new_label'] = data['jobeffortcoeff'].apply(lambda x: math.ceil(x))\n",
    "data['new_label'].value_counts()"
   ]
  },
  {
   "cell_type": "markdown",
   "metadata": {},
   "source": [
    "## With and Without Dropping the variables which are not necessary"
   ]
  },
  {
   "cell_type": "code",
   "execution_count": 20,
   "metadata": {},
   "outputs": [
    {
     "data": {
      "text/plain": [
       "(180647, 35)"
      ]
     },
     "execution_count": 20,
     "metadata": {},
     "output_type": "execute_result"
    }
   ],
   "source": [
    "# Without dropping\n",
    "x = data[data.columns.difference(['jobeffortcoeff','diff_cx_onprem','new_label'])]\n",
    "y = data['jobeffortcoeff']\n",
    "x.columns\n",
    "x.shape"
   ]
  },
  {
   "cell_type": "code",
   "execution_count": 21,
   "metadata": {},
   "outputs": [
    {
     "data": {
      "text/html": [
       "<div>\n",
       "<style>\n",
       "    .dataframe thead tr:only-child th {\n",
       "        text-align: right;\n",
       "    }\n",
       "\n",
       "    .dataframe thead th {\n",
       "        text-align: left;\n",
       "    }\n",
       "\n",
       "    .dataframe tbody tr th {\n",
       "        vertical-align: top;\n",
       "    }\n",
       "</style>\n",
       "<table border=\"1\" class=\"dataframe\">\n",
       "  <thead>\n",
       "    <tr style=\"text-align: right;\">\n",
       "      <th></th>\n",
       "      <th>fttpproducttype</th>\n",
       "      <th>wbn_prod_type</th>\n",
       "      <th>ontrequiredind</th>\n",
       "      <th>wbn_ont_required</th>\n",
       "      <th>onttype</th>\n",
       "      <th>premisetype</th>\n",
       "      <th>stbcount</th>\n",
       "      <th>droptype</th>\n",
       "      <th>serviceordertype</th>\n",
       "      <th>classofservicename</th>\n",
       "      <th>...</th>\n",
       "      <th>isnt</th>\n",
       "      <th>isfitof</th>\n",
       "      <th>networkmigrationind</th>\n",
       "      <th>order_type</th>\n",
       "      <th>detailed_order_type</th>\n",
       "      <th>arrivalwindow</th>\n",
       "      <th>diff_cx_onprem</th>\n",
       "      <th>change_state</th>\n",
       "      <th>jobeffortcoeff</th>\n",
       "      <th>new_label</th>\n",
       "    </tr>\n",
       "  </thead>\n",
       "  <tbody>\n",
       "    <tr>\n",
       "      <th>count</th>\n",
       "      <td>180647.000000</td>\n",
       "      <td>180647.000000</td>\n",
       "      <td>180647.000000</td>\n",
       "      <td>180647.000000</td>\n",
       "      <td>180647.000000</td>\n",
       "      <td>180647.000000</td>\n",
       "      <td>180647.000000</td>\n",
       "      <td>180647.000000</td>\n",
       "      <td>180647.000000</td>\n",
       "      <td>180647.000000</td>\n",
       "      <td>...</td>\n",
       "      <td>180647.000000</td>\n",
       "      <td>180647.000000</td>\n",
       "      <td>180647.000000</td>\n",
       "      <td>180647.000000</td>\n",
       "      <td>180647.000000</td>\n",
       "      <td>180647.000000</td>\n",
       "      <td>180647.000000</td>\n",
       "      <td>180647.000000</td>\n",
       "      <td>180647.000000</td>\n",
       "      <td>180647.000000</td>\n",
       "    </tr>\n",
       "    <tr>\n",
       "      <th>mean</th>\n",
       "      <td>2.530715</td>\n",
       "      <td>2.528279</td>\n",
       "      <td>0.660504</td>\n",
       "      <td>0.616373</td>\n",
       "      <td>0.990346</td>\n",
       "      <td>2.526795</td>\n",
       "      <td>1.045708</td>\n",
       "      <td>0.727297</td>\n",
       "      <td>0.830349</td>\n",
       "      <td>0.999253</td>\n",
       "      <td>...</td>\n",
       "      <td>0.040150</td>\n",
       "      <td>0.008077</td>\n",
       "      <td>0.006333</td>\n",
       "      <td>0.844514</td>\n",
       "      <td>2.022469</td>\n",
       "      <td>5.446955</td>\n",
       "      <td>201.729926</td>\n",
       "      <td>0.752196</td>\n",
       "      <td>3.362163</td>\n",
       "      <td>3.843839</td>\n",
       "    </tr>\n",
       "    <tr>\n",
       "      <th>std</th>\n",
       "      <td>1.799902</td>\n",
       "      <td>1.797871</td>\n",
       "      <td>0.473540</td>\n",
       "      <td>0.486270</td>\n",
       "      <td>0.098007</td>\n",
       "      <td>0.847683</td>\n",
       "      <td>1.338863</td>\n",
       "      <td>0.851672</td>\n",
       "      <td>0.572683</td>\n",
       "      <td>0.027327</td>\n",
       "      <td>...</td>\n",
       "      <td>0.196312</td>\n",
       "      <td>0.089506</td>\n",
       "      <td>0.079327</td>\n",
       "      <td>0.362368</td>\n",
       "      <td>0.581899</td>\n",
       "      <td>4.498967</td>\n",
       "      <td>72.823714</td>\n",
       "      <td>0.431738</td>\n",
       "      <td>1.213728</td>\n",
       "      <td>1.261859</td>\n",
       "    </tr>\n",
       "    <tr>\n",
       "      <th>min</th>\n",
       "      <td>0.000000</td>\n",
       "      <td>0.000000</td>\n",
       "      <td>0.000000</td>\n",
       "      <td>0.000000</td>\n",
       "      <td>0.000000</td>\n",
       "      <td>0.000000</td>\n",
       "      <td>0.000000</td>\n",
       "      <td>0.000000</td>\n",
       "      <td>0.000000</td>\n",
       "      <td>0.000000</td>\n",
       "      <td>...</td>\n",
       "      <td>0.000000</td>\n",
       "      <td>0.000000</td>\n",
       "      <td>0.000000</td>\n",
       "      <td>0.000000</td>\n",
       "      <td>0.000000</td>\n",
       "      <td>0.000000</td>\n",
       "      <td>91.000000</td>\n",
       "      <td>0.000000</td>\n",
       "      <td>1.520000</td>\n",
       "      <td>2.000000</td>\n",
       "    </tr>\n",
       "    <tr>\n",
       "      <th>25%</th>\n",
       "      <td>1.000000</td>\n",
       "      <td>1.000000</td>\n",
       "      <td>0.000000</td>\n",
       "      <td>0.000000</td>\n",
       "      <td>1.000000</td>\n",
       "      <td>3.000000</td>\n",
       "      <td>0.000000</td>\n",
       "      <td>0.000000</td>\n",
       "      <td>0.000000</td>\n",
       "      <td>1.000000</td>\n",
       "      <td>...</td>\n",
       "      <td>0.000000</td>\n",
       "      <td>0.000000</td>\n",
       "      <td>0.000000</td>\n",
       "      <td>1.000000</td>\n",
       "      <td>2.000000</td>\n",
       "      <td>0.000000</td>\n",
       "      <td>144.000000</td>\n",
       "      <td>1.000000</td>\n",
       "      <td>2.400000</td>\n",
       "      <td>3.000000</td>\n",
       "    </tr>\n",
       "    <tr>\n",
       "      <th>50%</th>\n",
       "      <td>4.000000</td>\n",
       "      <td>4.000000</td>\n",
       "      <td>1.000000</td>\n",
       "      <td>1.000000</td>\n",
       "      <td>1.000000</td>\n",
       "      <td>3.000000</td>\n",
       "      <td>0.000000</td>\n",
       "      <td>0.000000</td>\n",
       "      <td>1.000000</td>\n",
       "      <td>1.000000</td>\n",
       "      <td>...</td>\n",
       "      <td>0.000000</td>\n",
       "      <td>0.000000</td>\n",
       "      <td>0.000000</td>\n",
       "      <td>1.000000</td>\n",
       "      <td>2.000000</td>\n",
       "      <td>6.000000</td>\n",
       "      <td>190.000000</td>\n",
       "      <td>1.000000</td>\n",
       "      <td>3.170000</td>\n",
       "      <td>4.000000</td>\n",
       "    </tr>\n",
       "    <tr>\n",
       "      <th>75%</th>\n",
       "      <td>4.000000</td>\n",
       "      <td>4.000000</td>\n",
       "      <td>1.000000</td>\n",
       "      <td>1.000000</td>\n",
       "      <td>1.000000</td>\n",
       "      <td>3.000000</td>\n",
       "      <td>2.000000</td>\n",
       "      <td>2.000000</td>\n",
       "      <td>1.000000</td>\n",
       "      <td>1.000000</td>\n",
       "      <td>...</td>\n",
       "      <td>0.000000</td>\n",
       "      <td>0.000000</td>\n",
       "      <td>0.000000</td>\n",
       "      <td>1.000000</td>\n",
       "      <td>2.000000</td>\n",
       "      <td>10.000000</td>\n",
       "      <td>249.000000</td>\n",
       "      <td>1.000000</td>\n",
       "      <td>4.150000</td>\n",
       "      <td>5.000000</td>\n",
       "    </tr>\n",
       "    <tr>\n",
       "      <th>max</th>\n",
       "      <td>6.000000</td>\n",
       "      <td>6.000000</td>\n",
       "      <td>1.000000</td>\n",
       "      <td>1.000000</td>\n",
       "      <td>2.000000</td>\n",
       "      <td>3.000000</td>\n",
       "      <td>15.000000</td>\n",
       "      <td>2.000000</td>\n",
       "      <td>2.000000</td>\n",
       "      <td>1.000000</td>\n",
       "      <td>...</td>\n",
       "      <td>1.000000</td>\n",
       "      <td>1.000000</td>\n",
       "      <td>1.000000</td>\n",
       "      <td>1.000000</td>\n",
       "      <td>3.000000</td>\n",
       "      <td>16.000000</td>\n",
       "      <td>449.000000</td>\n",
       "      <td>1.000000</td>\n",
       "      <td>7.480000</td>\n",
       "      <td>8.000000</td>\n",
       "    </tr>\n",
       "  </tbody>\n",
       "</table>\n",
       "<p>8 rows × 38 columns</p>\n",
       "</div>"
      ],
      "text/plain": [
       "       fttpproducttype  wbn_prod_type  ontrequiredind  wbn_ont_required  \\\n",
       "count    180647.000000  180647.000000   180647.000000     180647.000000   \n",
       "mean          2.530715       2.528279        0.660504          0.616373   \n",
       "std           1.799902       1.797871        0.473540          0.486270   \n",
       "min           0.000000       0.000000        0.000000          0.000000   \n",
       "25%           1.000000       1.000000        0.000000          0.000000   \n",
       "50%           4.000000       4.000000        1.000000          1.000000   \n",
       "75%           4.000000       4.000000        1.000000          1.000000   \n",
       "max           6.000000       6.000000        1.000000          1.000000   \n",
       "\n",
       "             onttype    premisetype       stbcount       droptype  \\\n",
       "count  180647.000000  180647.000000  180647.000000  180647.000000   \n",
       "mean        0.990346       2.526795       1.045708       0.727297   \n",
       "std         0.098007       0.847683       1.338863       0.851672   \n",
       "min         0.000000       0.000000       0.000000       0.000000   \n",
       "25%         1.000000       3.000000       0.000000       0.000000   \n",
       "50%         1.000000       3.000000       0.000000       0.000000   \n",
       "75%         1.000000       3.000000       2.000000       2.000000   \n",
       "max         2.000000       3.000000      15.000000       2.000000   \n",
       "\n",
       "       serviceordertype  classofservicename      ...                 isnt  \\\n",
       "count     180647.000000       180647.000000      ...        180647.000000   \n",
       "mean           0.830349            0.999253      ...             0.040150   \n",
       "std            0.572683            0.027327      ...             0.196312   \n",
       "min            0.000000            0.000000      ...             0.000000   \n",
       "25%            0.000000            1.000000      ...             0.000000   \n",
       "50%            1.000000            1.000000      ...             0.000000   \n",
       "75%            1.000000            1.000000      ...             0.000000   \n",
       "max            2.000000            1.000000      ...             1.000000   \n",
       "\n",
       "             isfitof  networkmigrationind     order_type  detailed_order_type  \\\n",
       "count  180647.000000        180647.000000  180647.000000        180647.000000   \n",
       "mean        0.008077             0.006333       0.844514             2.022469   \n",
       "std         0.089506             0.079327       0.362368             0.581899   \n",
       "min         0.000000             0.000000       0.000000             0.000000   \n",
       "25%         0.000000             0.000000       1.000000             2.000000   \n",
       "50%         0.000000             0.000000       1.000000             2.000000   \n",
       "75%         0.000000             0.000000       1.000000             2.000000   \n",
       "max         1.000000             1.000000       1.000000             3.000000   \n",
       "\n",
       "       arrivalwindow  diff_cx_onprem   change_state  jobeffortcoeff  \\\n",
       "count  180647.000000   180647.000000  180647.000000   180647.000000   \n",
       "mean        5.446955      201.729926       0.752196        3.362163   \n",
       "std         4.498967       72.823714       0.431738        1.213728   \n",
       "min         0.000000       91.000000       0.000000        1.520000   \n",
       "25%         0.000000      144.000000       1.000000        2.400000   \n",
       "50%         6.000000      190.000000       1.000000        3.170000   \n",
       "75%        10.000000      249.000000       1.000000        4.150000   \n",
       "max        16.000000      449.000000       1.000000        7.480000   \n",
       "\n",
       "           new_label  \n",
       "count  180647.000000  \n",
       "mean        3.843839  \n",
       "std         1.261859  \n",
       "min         2.000000  \n",
       "25%         3.000000  \n",
       "50%         4.000000  \n",
       "75%         5.000000  \n",
       "max         8.000000  \n",
       "\n",
       "[8 rows x 38 columns]"
      ]
     },
     "execution_count": 21,
     "metadata": {},
     "output_type": "execute_result"
    }
   ],
   "source": [
    "data.describe()"
   ]
  },
  {
   "cell_type": "code",
   "execution_count": 22,
   "metadata": {},
   "outputs": [
    {
     "data": {
      "text/plain": [
       "0     90794\n",
       "1     34190\n",
       "2     28374\n",
       "3     16283\n",
       "4      7571\n",
       "5      2368\n",
       "6       683\n",
       "7       259\n",
       "8        77\n",
       "9        26\n",
       "10       15\n",
       "11        5\n",
       "15        1\n",
       "12        1\n",
       "Name: stbcount, dtype: int64"
      ]
     },
     "execution_count": 22,
     "metadata": {},
     "output_type": "execute_result"
    }
   ],
   "source": [
    "data.stbcount.value_counts()"
   ]
  },
  {
   "cell_type": "code",
   "execution_count": 23,
   "metadata": {},
   "outputs": [
    {
     "data": {
      "text/plain": [
       "(180647, 38)"
      ]
     },
     "execution_count": 23,
     "metadata": {},
     "output_type": "execute_result"
    }
   ],
   "source": [
    "data.shape"
   ]
  },
  {
   "cell_type": "code",
   "execution_count": 27,
   "metadata": {},
   "outputs": [
    {
     "data": {
      "text/plain": [
       "((180647, 35), (180647,))"
      ]
     },
     "execution_count": 27,
     "metadata": {},
     "output_type": "execute_result"
    }
   ],
   "source": [
    "x.shape, y.shape"
   ]
  },
  {
   "cell_type": "markdown",
   "metadata": {},
   "source": [
    "#### Splitting the data into test and train "
   ]
  },
  {
   "cell_type": "code",
   "execution_count": 28,
   "metadata": {
    "collapsed": true
   },
   "outputs": [],
   "source": [
    "X_train, X_test, y_train, y_test = train_test_split(x, y, test_size=0.33, random_state=42)"
   ]
  },
  {
   "cell_type": "code",
   "execution_count": 29,
   "metadata": {},
   "outputs": [
    {
     "data": {
      "text/plain": [
       "((121033, 35), (59614, 35), (121033,), (59614,))"
      ]
     },
     "execution_count": 29,
     "metadata": {},
     "output_type": "execute_result"
    }
   ],
   "source": [
    "X_train.shape, X_test.shape, y_train.shape, y_test.shape"
   ]
  },
  {
   "cell_type": "code",
   "execution_count": 34,
   "metadata": {},
   "outputs": [
    {
     "name": "stdout",
     "output_type": "stream",
     "text": [
      "34.5812826259 %\n"
     ]
    }
   ],
   "source": [
    "# Linear regression\n",
    "linearRegressor = LinearRegression()\n",
    "linearRegressor.fit(X_train, y_train)\n",
    "yPrediction = linearRegressor.predict(X_test)\n",
    "yPrediction\n",
    "accuracy = linearRegressor.score(X_test,y_test)\n",
    "print(accuracy*100,'%')\n"
   ]
  },
  {
   "cell_type": "code",
   "execution_count": 35,
   "metadata": {},
   "outputs": [
    {
     "data": {
      "text/plain": [
       "(180647, 26)"
      ]
     },
     "execution_count": 35,
     "metadata": {},
     "output_type": "execute_result"
    }
   ],
   "source": [
    "# With dropping variables\n",
    "# Without dropping\n",
    "x = data[data.columns.difference(['jobeffortcoeff','diff_cx_onprem','new_label','hfwsindicator','bdvind','swapontind','onttype','premisetype','migrateorderind','ismigrate','isnt','wbn_prod_type'])]\n",
    "y = data['jobeffortcoeff']\n",
    "x.columns\n",
    "x.shape"
   ]
  },
  {
   "cell_type": "code",
   "execution_count": 36,
   "metadata": {
    "collapsed": true
   },
   "outputs": [],
   "source": [
    "X_train, X_test, y_train, y_test = train_test_split(x, y, test_size=0.33, random_state=42)"
   ]
  },
  {
   "cell_type": "code",
   "execution_count": 37,
   "metadata": {},
   "outputs": [
    {
     "data": {
      "text/plain": [
       "((121033, 26), (59614, 26), (121033,), (59614,))"
      ]
     },
     "execution_count": 37,
     "metadata": {},
     "output_type": "execute_result"
    }
   ],
   "source": [
    "X_train.shape, X_test.shape, y_train.shape, y_test.shape"
   ]
  },
  {
   "cell_type": "code",
   "execution_count": 38,
   "metadata": {},
   "outputs": [
    {
     "name": "stdout",
     "output_type": "stream",
     "text": [
      "33.735178778 %\n"
     ]
    }
   ],
   "source": [
    "# Linear regression\n",
    "linearRegressor = LinearRegression()\n",
    "linearRegressor.fit(X_train, y_train)\n",
    "yPrediction = linearRegressor.predict(X_test)\n",
    "yPrediction\n",
    "accuracy = linearRegressor.score(X_test,y_test)\n",
    "print(accuracy*100,'%')\n"
   ]
  },
  {
   "cell_type": "markdown",
   "metadata": {},
   "source": [
    "# Classification problem"
   ]
  },
  {
   "cell_type": "markdown",
   "metadata": {},
   "source": [
    "### Model GBDT"
   ]
  },
  {
   "cell_type": "code",
   "execution_count": 61,
   "metadata": {},
   "outputs": [
    {
     "data": {
      "text/plain": [
       "(180647, 35)"
      ]
     },
     "execution_count": 61,
     "metadata": {},
     "output_type": "execute_result"
    }
   ],
   "source": [
    "# Without dropping\n",
    "x = data[data.columns.difference(['jobeffortcoeff','diff_cx_onprem','new_label'])]\n",
    "y = data['new_label']\n",
    "x.columns\n",
    "x.shape"
   ]
  },
  {
   "cell_type": "code",
   "execution_count": 62,
   "metadata": {
    "collapsed": true
   },
   "outputs": [],
   "source": [
    "X_train, X_test, y_train, y_test = train_test_split(x, y, test_size=0.33, random_state=42)"
   ]
  },
  {
   "cell_type": "code",
   "execution_count": 63,
   "metadata": {},
   "outputs": [
    {
     "data": {
      "text/plain": [
       "((121033, 35), (59614, 35), (121033,), (59614,))"
      ]
     },
     "execution_count": 63,
     "metadata": {},
     "output_type": "execute_result"
    }
   ],
   "source": [
    "X_train.shape, X_test.shape, y_train.shape, y_test.shape"
   ]
  },
  {
   "cell_type": "code",
   "execution_count": 42,
   "metadata": {
    "collapsed": true
   },
   "outputs": [],
   "source": [
    "clf = GradientBoostingClassifier(random_state=0)"
   ]
  },
  {
   "cell_type": "code",
   "execution_count": 44,
   "metadata": {},
   "outputs": [
    {
     "data": {
      "text/plain": [
       "GradientBoostingClassifier(criterion='friedman_mse', init=None,\n",
       "              learning_rate=0.1, loss='deviance', max_depth=3,\n",
       "              max_features=None, max_leaf_nodes=None,\n",
       "              min_impurity_decrease=0.0, min_impurity_split=None,\n",
       "              min_samples_leaf=1, min_samples_split=2,\n",
       "              min_weight_fraction_leaf=0.0, n_estimators=100,\n",
       "              presort='auto', random_state=0, subsample=1.0, verbose=0,\n",
       "              warm_start=False)"
      ]
     },
     "execution_count": 44,
     "metadata": {},
     "output_type": "execute_result"
    }
   ],
   "source": [
    "clf.fit(X_train, y_train)"
   ]
  },
  {
   "cell_type": "code",
   "execution_count": 45,
   "metadata": {
    "collapsed": true
   },
   "outputs": [],
   "source": [
    "feature_importances = pd.DataFrame(clf.feature_importances_,\n",
    "                                   index = X_train.columns,\n",
    "                                   columns=['importance']).sort_values('importance',ascending=False)"
   ]
  },
  {
   "cell_type": "code",
   "execution_count": 46,
   "metadata": {},
   "outputs": [
    {
     "data": {
      "text/html": [
       "<div>\n",
       "<style>\n",
       "    .dataframe thead tr:only-child th {\n",
       "        text-align: right;\n",
       "    }\n",
       "\n",
       "    .dataframe thead th {\n",
       "        text-align: left;\n",
       "    }\n",
       "\n",
       "    .dataframe tbody tr th {\n",
       "        vertical-align: top;\n",
       "    }\n",
       "</style>\n",
       "<table border=\"1\" class=\"dataframe\">\n",
       "  <thead>\n",
       "    <tr style=\"text-align: right;\">\n",
       "      <th></th>\n",
       "      <th>importance</th>\n",
       "    </tr>\n",
       "  </thead>\n",
       "  <tbody>\n",
       "    <tr>\n",
       "      <th>wirecentergroupid</th>\n",
       "      <td>0.149530</td>\n",
       "    </tr>\n",
       "    <tr>\n",
       "      <th>drcregion</th>\n",
       "      <td>0.119879</td>\n",
       "    </tr>\n",
       "    <tr>\n",
       "      <th>stbcount</th>\n",
       "      <td>0.116163</td>\n",
       "    </tr>\n",
       "    <tr>\n",
       "      <th>arrivalwindow</th>\n",
       "      <td>0.070285</td>\n",
       "    </tr>\n",
       "    <tr>\n",
       "      <th>wbn_prod_type</th>\n",
       "      <td>0.069169</td>\n",
       "    </tr>\n",
       "    <tr>\n",
       "      <th>wbn_ont_required</th>\n",
       "      <td>0.056806</td>\n",
       "    </tr>\n",
       "    <tr>\n",
       "      <th>videoordertype</th>\n",
       "      <td>0.056638</td>\n",
       "    </tr>\n",
       "    <tr>\n",
       "      <th>dispatchreason</th>\n",
       "      <td>0.036577</td>\n",
       "    </tr>\n",
       "    <tr>\n",
       "      <th>winbackocn</th>\n",
       "      <td>0.034237</td>\n",
       "    </tr>\n",
       "    <tr>\n",
       "      <th>droptype</th>\n",
       "      <td>0.033511</td>\n",
       "    </tr>\n",
       "    <tr>\n",
       "      <th>traveltime</th>\n",
       "      <td>0.030779</td>\n",
       "    </tr>\n",
       "    <tr>\n",
       "      <th>swapontind</th>\n",
       "      <td>0.025753</td>\n",
       "    </tr>\n",
       "    <tr>\n",
       "      <th>fttpproducttype</th>\n",
       "      <td>0.023867</td>\n",
       "    </tr>\n",
       "    <tr>\n",
       "      <th>ismigrate</th>\n",
       "      <td>0.022920</td>\n",
       "    </tr>\n",
       "    <tr>\n",
       "      <th>ontrequiredind</th>\n",
       "      <td>0.021572</td>\n",
       "    </tr>\n",
       "    <tr>\n",
       "      <th>rewiringrequired</th>\n",
       "      <td>0.017488</td>\n",
       "    </tr>\n",
       "    <tr>\n",
       "      <th>winbackind</th>\n",
       "      <td>0.017131</td>\n",
       "    </tr>\n",
       "    <tr>\n",
       "      <th>ont_status</th>\n",
       "      <td>0.016931</td>\n",
       "    </tr>\n",
       "    <tr>\n",
       "      <th>detailed_order_type</th>\n",
       "      <td>0.012497</td>\n",
       "    </tr>\n",
       "    <tr>\n",
       "      <th>dataordertype</th>\n",
       "      <td>0.011817</td>\n",
       "    </tr>\n",
       "    <tr>\n",
       "      <th>serviceordertype</th>\n",
       "      <td>0.011219</td>\n",
       "    </tr>\n",
       "    <tr>\n",
       "      <th>premisetype</th>\n",
       "      <td>0.009029</td>\n",
       "    </tr>\n",
       "    <tr>\n",
       "      <th>hfwsindicator</th>\n",
       "      <td>0.006819</td>\n",
       "    </tr>\n",
       "    <tr>\n",
       "      <th>adlflag</th>\n",
       "      <td>0.006163</td>\n",
       "    </tr>\n",
       "    <tr>\n",
       "      <th>order_type</th>\n",
       "      <td>0.004980</td>\n",
       "    </tr>\n",
       "    <tr>\n",
       "      <th>gponind</th>\n",
       "      <td>0.004048</td>\n",
       "    </tr>\n",
       "    <tr>\n",
       "      <th>change_state</th>\n",
       "      <td>0.003975</td>\n",
       "    </tr>\n",
       "    <tr>\n",
       "      <th>bdvnooflines</th>\n",
       "      <td>0.002467</td>\n",
       "    </tr>\n",
       "    <tr>\n",
       "      <th>isfitof</th>\n",
       "      <td>0.002435</td>\n",
       "    </tr>\n",
       "    <tr>\n",
       "      <th>isnt</th>\n",
       "      <td>0.001638</td>\n",
       "    </tr>\n",
       "    <tr>\n",
       "      <th>classofservicename</th>\n",
       "      <td>0.001619</td>\n",
       "    </tr>\n",
       "    <tr>\n",
       "      <th>onttype</th>\n",
       "      <td>0.001364</td>\n",
       "    </tr>\n",
       "    <tr>\n",
       "      <th>networkmigrationind</th>\n",
       "      <td>0.000591</td>\n",
       "    </tr>\n",
       "    <tr>\n",
       "      <th>bdvind</th>\n",
       "      <td>0.000104</td>\n",
       "    </tr>\n",
       "    <tr>\n",
       "      <th>migrateorderind</th>\n",
       "      <td>0.000000</td>\n",
       "    </tr>\n",
       "  </tbody>\n",
       "</table>\n",
       "</div>"
      ],
      "text/plain": [
       "                     importance\n",
       "wirecentergroupid      0.149530\n",
       "drcregion              0.119879\n",
       "stbcount               0.116163\n",
       "arrivalwindow          0.070285\n",
       "wbn_prod_type          0.069169\n",
       "wbn_ont_required       0.056806\n",
       "videoordertype         0.056638\n",
       "dispatchreason         0.036577\n",
       "winbackocn             0.034237\n",
       "droptype               0.033511\n",
       "traveltime             0.030779\n",
       "swapontind             0.025753\n",
       "fttpproducttype        0.023867\n",
       "ismigrate              0.022920\n",
       "ontrequiredind         0.021572\n",
       "rewiringrequired       0.017488\n",
       "winbackind             0.017131\n",
       "ont_status             0.016931\n",
       "detailed_order_type    0.012497\n",
       "dataordertype          0.011817\n",
       "serviceordertype       0.011219\n",
       "premisetype            0.009029\n",
       "hfwsindicator          0.006819\n",
       "adlflag                0.006163\n",
       "order_type             0.004980\n",
       "gponind                0.004048\n",
       "change_state           0.003975\n",
       "bdvnooflines           0.002467\n",
       "isfitof                0.002435\n",
       "isnt                   0.001638\n",
       "classofservicename     0.001619\n",
       "onttype                0.001364\n",
       "networkmigrationind    0.000591\n",
       "bdvind                 0.000104\n",
       "migrateorderind        0.000000"
      ]
     },
     "execution_count": 46,
     "metadata": {},
     "output_type": "execute_result"
    }
   ],
   "source": [
    "feature_importances"
   ]
  },
  {
   "cell_type": "code",
   "execution_count": 47,
   "metadata": {
    "collapsed": true
   },
   "outputs": [],
   "source": [
    "y_pred = clf.predict(X_test)"
   ]
  },
  {
   "cell_type": "code",
   "execution_count": 48,
   "metadata": {},
   "outputs": [
    {
     "data": {
      "text/plain": [
       "array([2, 3, 4, 5, 6, 7, 8], dtype=int64)"
      ]
     },
     "execution_count": 48,
     "metadata": {},
     "output_type": "execute_result"
    }
   ],
   "source": [
    "clf.classes_"
   ]
  },
  {
   "cell_type": "code",
   "execution_count": 49,
   "metadata": {},
   "outputs": [
    {
     "data": {
      "text/plain": [
       "0.41379541718388296"
      ]
     },
     "execution_count": 49,
     "metadata": {},
     "output_type": "execute_result"
    }
   ],
   "source": [
    "accuracy_score(y_test, y_pred)"
   ]
  },
  {
   "cell_type": "code",
   "execution_count": 50,
   "metadata": {},
   "outputs": [
    {
     "data": {
      "text/plain": [
       "3    19537\n",
       "4    16025\n",
       "5     9799\n",
       "2     7598\n",
       "6     4842\n",
       "7     1704\n",
       "8      109\n",
       "Name: new_label, dtype: int64"
      ]
     },
     "execution_count": 50,
     "metadata": {},
     "output_type": "execute_result"
    }
   ],
   "source": [
    "y_test.value_counts()"
   ]
  },
  {
   "cell_type": "code",
   "execution_count": 51,
   "metadata": {},
   "outputs": [
    {
     "name": "stdout",
     "output_type": "stream",
     "text": [
      "             precision    recall  f1-score   support\n",
      "\n",
      "          2       0.47      0.15      0.23      7598\n",
      "          3       0.46      0.68      0.55     19537\n",
      "          4       0.37      0.43      0.40     16025\n",
      "          5       0.33      0.26      0.29      9799\n",
      "          6       0.36      0.16      0.22      4842\n",
      "          7       0.34      0.01      0.01      1704\n",
      "          8       0.00      0.00      0.00       109\n",
      "\n",
      "avg / total       0.40      0.41      0.38     59614\n",
      "\n"
     ]
    },
    {
     "name": "stderr",
     "output_type": "stream",
     "text": [
      "C:\\Users\\shash\\Anaconda3\\lib\\site-packages\\sklearn\\metrics\\classification.py:1135: UndefinedMetricWarning: Precision and F-score are ill-defined and being set to 0.0 in labels with no predicted samples.\n",
      "  'precision', 'predicted', average, warn_for)\n"
     ]
    }
   ],
   "source": [
    "print(classification_report(y_test, y_pred, target_names=['2', '3', '4', '5', '6', '7', '8']))"
   ]
  },
  {
   "cell_type": "code",
   "execution_count": null,
   "metadata": {
    "collapsed": true
   },
   "outputs": [],
   "source": [
    "# With excluding the variables\n",
    "# With dropping variables\n",
    "# Without dropping\n",
    "x = data[data.columns.difference(['jobeffortcoeff','diff_cx_onprem','new_label','hfwsindicator','bdvind','swapontind','onttype','premisetype','migrateorderind','ismigrate','isnt','wbn_prod_type'])]\n",
    "y = data['new_label']\n",
    "x.columns\n",
    "x.shape"
   ]
  },
  {
   "cell_type": "code",
   "execution_count": 52,
   "metadata": {
    "collapsed": true
   },
   "outputs": [],
   "source": [
    "X_train, X_test, y_train, y_test = train_test_split(x, y, test_size=0.33, random_state=42)"
   ]
  },
  {
   "cell_type": "code",
   "execution_count": 53,
   "metadata": {},
   "outputs": [
    {
     "data": {
      "text/plain": [
       "((121033, 35), (59614, 35), (121033,), (59614,))"
      ]
     },
     "execution_count": 53,
     "metadata": {},
     "output_type": "execute_result"
    }
   ],
   "source": [
    "X_train.shape, X_test.shape, y_train.shape, y_test.shape"
   ]
  },
  {
   "cell_type": "code",
   "execution_count": 54,
   "metadata": {
    "collapsed": true
   },
   "outputs": [],
   "source": [
    "clf = GradientBoostingClassifier(random_state=0)"
   ]
  },
  {
   "cell_type": "code",
   "execution_count": 55,
   "metadata": {},
   "outputs": [
    {
     "data": {
      "text/plain": [
       "GradientBoostingClassifier(criterion='friedman_mse', init=None,\n",
       "              learning_rate=0.1, loss='deviance', max_depth=3,\n",
       "              max_features=None, max_leaf_nodes=None,\n",
       "              min_impurity_decrease=0.0, min_impurity_split=None,\n",
       "              min_samples_leaf=1, min_samples_split=2,\n",
       "              min_weight_fraction_leaf=0.0, n_estimators=100,\n",
       "              presort='auto', random_state=0, subsample=1.0, verbose=0,\n",
       "              warm_start=False)"
      ]
     },
     "execution_count": 55,
     "metadata": {},
     "output_type": "execute_result"
    }
   ],
   "source": [
    "clf.fit(X_train, y_train)"
   ]
  },
  {
   "cell_type": "code",
   "execution_count": 56,
   "metadata": {
    "collapsed": true
   },
   "outputs": [],
   "source": [
    "feature_importances = pd.DataFrame(clf.feature_importances_,\n",
    "                                   index = X_train.columns,\n",
    "                                   columns=['importance']).sort_values('importance',ascending=False)"
   ]
  },
  {
   "cell_type": "code",
   "execution_count": 57,
   "metadata": {
    "collapsed": true
   },
   "outputs": [],
   "source": [
    "y_pred = clf.predict(X_test)"
   ]
  },
  {
   "cell_type": "code",
   "execution_count": 58,
   "metadata": {},
   "outputs": [
    {
     "data": {
      "text/plain": [
       "0.41379541718388296"
      ]
     },
     "execution_count": 58,
     "metadata": {},
     "output_type": "execute_result"
    }
   ],
   "source": [
    "accuracy_score(y_test, y_pred)"
   ]
  },
  {
   "cell_type": "markdown",
   "metadata": {},
   "source": [
    "### Model KNN"
   ]
  },
  {
   "cell_type": "code",
   "execution_count": 64,
   "metadata": {
    "collapsed": true
   },
   "outputs": [],
   "source": [
    "from sklearn.neighbors import KNeighborsClassifier"
   ]
  },
  {
   "cell_type": "code",
   "execution_count": 65,
   "metadata": {
    "collapsed": true
   },
   "outputs": [],
   "source": [
    "neigh = KNeighborsClassifier(n_neighbors=60)"
   ]
  },
  {
   "cell_type": "code",
   "execution_count": 66,
   "metadata": {},
   "outputs": [
    {
     "data": {
      "text/plain": [
       "KNeighborsClassifier(algorithm='auto', leaf_size=30, metric='minkowski',\n",
       "           metric_params=None, n_jobs=1, n_neighbors=60, p=2,\n",
       "           weights='uniform')"
      ]
     },
     "execution_count": 66,
     "metadata": {},
     "output_type": "execute_result"
    }
   ],
   "source": [
    "neigh.fit(X_train, y_train)"
   ]
  },
  {
   "cell_type": "code",
   "execution_count": 67,
   "metadata": {
    "collapsed": true
   },
   "outputs": [],
   "source": [
    "pred = neigh.predict(X_test)"
   ]
  },
  {
   "cell_type": "code",
   "execution_count": 68,
   "metadata": {},
   "outputs": [
    {
     "data": {
      "text/plain": [
       "0.39485691280571678"
      ]
     },
     "execution_count": 68,
     "metadata": {},
     "output_type": "execute_result"
    }
   ],
   "source": [
    "accuracy_score(y_test, pred)"
   ]
  },
  {
   "cell_type": "code",
   "execution_count": 69,
   "metadata": {},
   "outputs": [
    {
     "name": "stdout",
     "output_type": "stream",
     "text": [
      "             precision    recall  f1-score   support\n",
      "\n",
      "          2       0.42      0.11      0.17      7598\n",
      "          3       0.44      0.69      0.54     19537\n",
      "          4       0.35      0.38      0.37     16025\n",
      "          5       0.32      0.25      0.28      9799\n",
      "          6       0.33      0.16      0.21      4842\n",
      "          7       0.21      0.00      0.01      1704\n",
      "          8       0.00      0.00      0.00       109\n",
      "\n",
      "avg / total       0.38      0.39      0.36     59614\n",
      "\n"
     ]
    },
    {
     "name": "stderr",
     "output_type": "stream",
     "text": [
      "C:\\Users\\shash\\Anaconda3\\lib\\site-packages\\sklearn\\metrics\\classification.py:1135: UndefinedMetricWarning: Precision and F-score are ill-defined and being set to 0.0 in labels with no predicted samples.\n",
      "  'precision', 'predicted', average, warn_for)\n"
     ]
    }
   ],
   "source": [
    "print(classification_report(y_test, pred, target_names=['2', '3', '4', '5', '6', '7', '8']))"
   ]
  },
  {
   "cell_type": "markdown",
   "metadata": {},
   "source": [
    "observation : accuracy increases with number of neighbors. But stops increasing after 40"
   ]
  },
  {
   "cell_type": "markdown",
   "metadata": {},
   "source": [
    "### Model Random forest"
   ]
  },
  {
   "cell_type": "code",
   "execution_count": 70,
   "metadata": {
    "collapsed": true
   },
   "outputs": [],
   "source": [
    "clf = RandomForestClassifier(n_estimators=100, max_depth=2,random_state=0)"
   ]
  },
  {
   "cell_type": "code",
   "execution_count": 71,
   "metadata": {},
   "outputs": [
    {
     "data": {
      "text/plain": [
       "RandomForestClassifier(bootstrap=True, class_weight=None, criterion='gini',\n",
       "            max_depth=2, max_features='auto', max_leaf_nodes=None,\n",
       "            min_impurity_decrease=0.0, min_impurity_split=None,\n",
       "            min_samples_leaf=1, min_samples_split=2,\n",
       "            min_weight_fraction_leaf=0.0, n_estimators=100, n_jobs=1,\n",
       "            oob_score=False, random_state=0, verbose=0, warm_start=False)"
      ]
     },
     "execution_count": 71,
     "metadata": {},
     "output_type": "execute_result"
    }
   ],
   "source": [
    "clf.fit(X_train, y_train)"
   ]
  },
  {
   "cell_type": "code",
   "execution_count": 72,
   "metadata": {
    "collapsed": true
   },
   "outputs": [],
   "source": [
    "y_pred = clf.predict(X_test)"
   ]
  },
  {
   "cell_type": "code",
   "execution_count": 73,
   "metadata": {},
   "outputs": [
    {
     "data": {
      "text/plain": [
       "0.36935954641527158"
      ]
     },
     "execution_count": 73,
     "metadata": {},
     "output_type": "execute_result"
    }
   ],
   "source": [
    "accuracy_score(y_test, y_pred)"
   ]
  },
  {
   "cell_type": "code",
   "execution_count": 74,
   "metadata": {},
   "outputs": [
    {
     "name": "stdout",
     "output_type": "stream",
     "text": [
      "             precision    recall  f1-score   support\n",
      "\n",
      "          2       0.00      0.00      0.00      7598\n",
      "          3       0.40      0.87      0.54     19537\n",
      "          4       0.30      0.31      0.31     16025\n",
      "          5       0.00      0.00      0.00      9799\n",
      "          6       0.00      0.00      0.00      4842\n",
      "          7       0.00      0.00      0.00      1704\n",
      "          8       0.00      0.00      0.00       109\n",
      "\n",
      "avg / total       0.21      0.37      0.26     59614\n",
      "\n"
     ]
    },
    {
     "name": "stderr",
     "output_type": "stream",
     "text": [
      "C:\\Users\\shash\\Anaconda3\\lib\\site-packages\\sklearn\\metrics\\classification.py:1135: UndefinedMetricWarning: Precision and F-score are ill-defined and being set to 0.0 in labels with no predicted samples.\n",
      "  'precision', 'predicted', average, warn_for)\n"
     ]
    }
   ],
   "source": [
    "print(classification_report(y_test, y_pred, target_names=['2', '3', '4', '5', '6', '7', '8']))"
   ]
  },
  {
   "cell_type": "code",
   "execution_count": 75,
   "metadata": {
    "collapsed": true
   },
   "outputs": [],
   "source": [
    "feature_importances = pd.DataFrame(clf.feature_importances_,\n",
    "                                   index = X_train.columns,\n",
    "                                   columns=['importance']).sort_values('importance',ascending=False)"
   ]
  },
  {
   "cell_type": "code",
   "execution_count": 76,
   "metadata": {},
   "outputs": [
    {
     "data": {
      "text/html": [
       "<div>\n",
       "<style>\n",
       "    .dataframe thead tr:only-child th {\n",
       "        text-align: right;\n",
       "    }\n",
       "\n",
       "    .dataframe thead th {\n",
       "        text-align: left;\n",
       "    }\n",
       "\n",
       "    .dataframe tbody tr th {\n",
       "        vertical-align: top;\n",
       "    }\n",
       "</style>\n",
       "<table border=\"1\" class=\"dataframe\">\n",
       "  <thead>\n",
       "    <tr style=\"text-align: right;\">\n",
       "      <th></th>\n",
       "      <th>importance</th>\n",
       "    </tr>\n",
       "  </thead>\n",
       "  <tbody>\n",
       "    <tr>\n",
       "      <th>wbn_prod_type</th>\n",
       "      <td>0.203861</td>\n",
       "    </tr>\n",
       "    <tr>\n",
       "      <th>drcregion</th>\n",
       "      <td>0.130693</td>\n",
       "    </tr>\n",
       "    <tr>\n",
       "      <th>stbcount</th>\n",
       "      <td>0.121370</td>\n",
       "    </tr>\n",
       "    <tr>\n",
       "      <th>fttpproducttype</th>\n",
       "      <td>0.109120</td>\n",
       "    </tr>\n",
       "    <tr>\n",
       "      <th>ont_status</th>\n",
       "      <td>0.082448</td>\n",
       "    </tr>\n",
       "    <tr>\n",
       "      <th>videoordertype</th>\n",
       "      <td>0.067634</td>\n",
       "    </tr>\n",
       "    <tr>\n",
       "      <th>wbn_ont_required</th>\n",
       "      <td>0.063584</td>\n",
       "    </tr>\n",
       "    <tr>\n",
       "      <th>ontrequiredind</th>\n",
       "      <td>0.054596</td>\n",
       "    </tr>\n",
       "    <tr>\n",
       "      <th>wirecentergroupid</th>\n",
       "      <td>0.031845</td>\n",
       "    </tr>\n",
       "    <tr>\n",
       "      <th>winbackind</th>\n",
       "      <td>0.028162</td>\n",
       "    </tr>\n",
       "    <tr>\n",
       "      <th>dispatchreason</th>\n",
       "      <td>0.023182</td>\n",
       "    </tr>\n",
       "    <tr>\n",
       "      <th>detailed_order_type</th>\n",
       "      <td>0.019471</td>\n",
       "    </tr>\n",
       "    <tr>\n",
       "      <th>order_type</th>\n",
       "      <td>0.018313</td>\n",
       "    </tr>\n",
       "    <tr>\n",
       "      <th>winbackocn</th>\n",
       "      <td>0.010096</td>\n",
       "    </tr>\n",
       "    <tr>\n",
       "      <th>change_state</th>\n",
       "      <td>0.009870</td>\n",
       "    </tr>\n",
       "    <tr>\n",
       "      <th>traveltime</th>\n",
       "      <td>0.008970</td>\n",
       "    </tr>\n",
       "    <tr>\n",
       "      <th>arrivalwindow</th>\n",
       "      <td>0.006370</td>\n",
       "    </tr>\n",
       "    <tr>\n",
       "      <th>dataordertype</th>\n",
       "      <td>0.002930</td>\n",
       "    </tr>\n",
       "    <tr>\n",
       "      <th>serviceordertype</th>\n",
       "      <td>0.002820</td>\n",
       "    </tr>\n",
       "    <tr>\n",
       "      <th>swapontind</th>\n",
       "      <td>0.002226</td>\n",
       "    </tr>\n",
       "    <tr>\n",
       "      <th>droptype</th>\n",
       "      <td>0.000986</td>\n",
       "    </tr>\n",
       "    <tr>\n",
       "      <th>ismigrate</th>\n",
       "      <td>0.000660</td>\n",
       "    </tr>\n",
       "    <tr>\n",
       "      <th>rewiringrequired</th>\n",
       "      <td>0.000440</td>\n",
       "    </tr>\n",
       "    <tr>\n",
       "      <th>isnt</th>\n",
       "      <td>0.000191</td>\n",
       "    </tr>\n",
       "    <tr>\n",
       "      <th>gponind</th>\n",
       "      <td>0.000141</td>\n",
       "    </tr>\n",
       "    <tr>\n",
       "      <th>onttype</th>\n",
       "      <td>0.000022</td>\n",
       "    </tr>\n",
       "    <tr>\n",
       "      <th>adlflag</th>\n",
       "      <td>0.000000</td>\n",
       "    </tr>\n",
       "    <tr>\n",
       "      <th>premisetype</th>\n",
       "      <td>0.000000</td>\n",
       "    </tr>\n",
       "    <tr>\n",
       "      <th>networkmigrationind</th>\n",
       "      <td>0.000000</td>\n",
       "    </tr>\n",
       "    <tr>\n",
       "      <th>isfitof</th>\n",
       "      <td>0.000000</td>\n",
       "    </tr>\n",
       "    <tr>\n",
       "      <th>hfwsindicator</th>\n",
       "      <td>0.000000</td>\n",
       "    </tr>\n",
       "    <tr>\n",
       "      <th>classofservicename</th>\n",
       "      <td>0.000000</td>\n",
       "    </tr>\n",
       "    <tr>\n",
       "      <th>bdvnooflines</th>\n",
       "      <td>0.000000</td>\n",
       "    </tr>\n",
       "    <tr>\n",
       "      <th>bdvind</th>\n",
       "      <td>0.000000</td>\n",
       "    </tr>\n",
       "    <tr>\n",
       "      <th>migrateorderind</th>\n",
       "      <td>0.000000</td>\n",
       "    </tr>\n",
       "  </tbody>\n",
       "</table>\n",
       "</div>"
      ],
      "text/plain": [
       "                     importance\n",
       "wbn_prod_type          0.203861\n",
       "drcregion              0.130693\n",
       "stbcount               0.121370\n",
       "fttpproducttype        0.109120\n",
       "ont_status             0.082448\n",
       "videoordertype         0.067634\n",
       "wbn_ont_required       0.063584\n",
       "ontrequiredind         0.054596\n",
       "wirecentergroupid      0.031845\n",
       "winbackind             0.028162\n",
       "dispatchreason         0.023182\n",
       "detailed_order_type    0.019471\n",
       "order_type             0.018313\n",
       "winbackocn             0.010096\n",
       "change_state           0.009870\n",
       "traveltime             0.008970\n",
       "arrivalwindow          0.006370\n",
       "dataordertype          0.002930\n",
       "serviceordertype       0.002820\n",
       "swapontind             0.002226\n",
       "droptype               0.000986\n",
       "ismigrate              0.000660\n",
       "rewiringrequired       0.000440\n",
       "isnt                   0.000191\n",
       "gponind                0.000141\n",
       "onttype                0.000022\n",
       "adlflag                0.000000\n",
       "premisetype            0.000000\n",
       "networkmigrationind    0.000000\n",
       "isfitof                0.000000\n",
       "hfwsindicator          0.000000\n",
       "classofservicename     0.000000\n",
       "bdvnooflines           0.000000\n",
       "bdvind                 0.000000\n",
       "migrateorderind        0.000000"
      ]
     },
     "execution_count": 76,
     "metadata": {},
     "output_type": "execute_result"
    }
   ],
   "source": [
    "feature_importances"
   ]
  },
  {
   "cell_type": "markdown",
   "metadata": {
    "collapsed": true
   },
   "source": [
    "### Model Logistic regression"
   ]
  },
  {
   "cell_type": "code",
   "execution_count": 79,
   "metadata": {},
   "outputs": [
    {
     "data": {
      "text/plain": [
       "0.40002348441641228"
      ]
     },
     "execution_count": 79,
     "metadata": {},
     "output_type": "execute_result"
    }
   ],
   "source": [
    "model = LogisticRegression()\n",
    "model.fit(X_train, y_train)\n",
    "L_Pred = model.predict(X_test)\n",
    "from sklearn.metrics import confusion_matrix\n",
    "confusion_matrix(y_test, L_Pred)\n",
    "from sklearn.metrics import accuracy_score\n",
    "accuracy_score(y_test, L_Pred)"
   ]
  }
 ],
 "metadata": {
  "kernelspec": {
   "display_name": "Python 3",
   "language": "python",
   "name": "python3"
  },
  "language_info": {
   "codemirror_mode": {
    "name": "ipython",
    "version": 3
   },
   "file_extension": ".py",
   "mimetype": "text/x-python",
   "name": "python",
   "nbconvert_exporter": "python",
   "pygments_lexer": "ipython3",
   "version": "3.6.3"
  }
 },
 "nbformat": 4,
 "nbformat_minor": 2
}
